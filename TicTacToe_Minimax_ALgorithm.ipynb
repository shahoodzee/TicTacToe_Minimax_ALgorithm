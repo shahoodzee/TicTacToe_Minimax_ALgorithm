{
  "cells": [
    {
      "cell_type": "markdown",
      "metadata": {
        "id": "view-in-github",
        "colab_type": "text"
      },
      "source": [
        "<a href=\"https://colab.research.google.com/github/shahoodzee/TicTacToe_Minimax_ALgorithm/blob/main/TicTacToe_Minimax_ALgorithm.ipynb\" target=\"_parent\"><img src=\"https://colab.research.google.com/assets/colab-badge.svg\" alt=\"Open In Colab\"/></a>"
      ]
    },
    {
      "cell_type": "code",
      "execution_count": null,
      "metadata": {
        "id": "JNPeuZymdoIV"
      },
      "outputs": [],
      "source": [
        "#@title Create a dictionary board\n",
        "def initialize(board):\n",
        "  player = 'O'\n",
        "  pc = 'X'\n",
        "  return"
      ]
    },
    {
      "cell_type": "code",
      "source": [
        "def print_board(board):\n",
        "    print(board[1] + ' | '+board[2]+ ' | '+board[3])\n",
        "    print('_ * _ * _')\n",
        "    print(board[4] + ' | '+board[5]+ ' | '+board[6])\n",
        "    print('_ * _ * _')\n",
        "    print(board[7] + ' | '+board[8]+ ' | '+board[9] + \"\\n\")"
      ],
      "metadata": {
        "id": "rGIhGMFHenp8"
      },
      "execution_count": null,
      "outputs": []
    },
    {
      "cell_type": "code",
      "source": [
        "def space_available(arr,i,j):\n",
        "  if arr[i][j] == 1:\n",
        "    print('Space occupied use another Spot!')"
      ],
      "metadata": {
        "id": "YS3lpE_5sjFb"
      },
      "execution_count": null,
      "outputs": []
    },
    {
      "cell_type": "code",
      "source": [
        "#@title To check Wether A Slot is avilable or not\n",
        "def checkspace(pos):\n",
        "  if(board[pos] == ' '):\n",
        "    return True\n",
        "  else:\n",
        "    return False"
      ],
      "metadata": {
        "id": "NC-wpdKrwIT5"
      },
      "execution_count": null,
      "outputs": []
    },
    {
      "cell_type": "code",
      "source": [
        "def check_X_win():\n",
        "    if (board[1] == board[2] and board[1] == board[3] and board[1] == 'X'):\n",
        "        return True\n",
        "    elif (board[4] == board[5] and board[4] == board[6] and board[4] == 'X'):\n",
        "        return True\n",
        "    elif (board[7] == board[8] and board[7] == board[9] and board[7] == 'X'):\n",
        "        return True\n",
        "    elif (board[1] == board[4] and board[1] == board[7] and board[1] == 'X'):\n",
        "        return True\n",
        "    elif (board[2] == board[5] and board[2] == board[8] and board[2] == 'X'):\n",
        "        return True\n",
        "    elif (board[3] == board[6] and board[3] == board[9] and board[3] == 'X'):\n",
        "        return True\n",
        "    elif (board[1] == board[5] and board[1] == board[9] and board[1] == 'X'):\n",
        "        return True\n",
        "    elif (board[7] == board[5] and board[7] == board[3] and board[7] == 'X'):\n",
        "        return True\n",
        "    else:\n",
        "        return False"
      ],
      "metadata": {
        "id": "YeP4sF17eaMs"
      },
      "execution_count": null,
      "outputs": []
    },
    {
      "cell_type": "code",
      "source": [
        "def check_O_win():\n",
        "    if (board[1] == board[2] and board[1] == board[3] and board[1] == 'O'):\n",
        "        return True\n",
        "    elif (board[4] == board[5] and board[4] == board[6] and board[4] == 'O'):\n",
        "        return True\n",
        "    elif (board[7] == board[8] and board[7] == board[9] and board[7] == 'O'):\n",
        "        return True\n",
        "    elif (board[1] == board[4] and board[1] == board[7] and board[1] == 'O'):\n",
        "        return True\n",
        "    elif (board[2] == board[5] and board[2] == board[8] and board[2] == 'O'):\n",
        "        return True\n",
        "    elif (board[3] == board[6] and board[3] == board[9] and board[3] == 'O'):\n",
        "        return True\n",
        "    elif (board[1] == board[5] and board[1] == board[9] and board[1] == 'O'):\n",
        "        return True\n",
        "    elif (board[7] == board[5] and board[7] == board[3] and board[7] == 'O'):\n",
        "        return True\n",
        "    else:\n",
        "        return False"
      ],
      "metadata": {
        "id": "vPYOhWRmxk55"
      },
      "execution_count": null,
      "outputs": []
    },
    {
      "cell_type": "code",
      "source": [
        "#if u find any empty space then it means the games still going on  else\n",
        "def checkDraw():\n",
        "  for key in board.keys():\n",
        "    if board[key] ==' ':\n",
        "      return False\n",
        "\n",
        "  return False"
      ],
      "metadata": {
        "id": "V3QDNfacdUtA"
      },
      "execution_count": null,
      "outputs": []
    },
    {
      "cell_type": "code",
      "source": [
        "def place_at_pos(var,pos):\n",
        "  while(True):\n",
        "    if(checkspace(pos)==False):\n",
        "      print('space not available')\n",
        "      print_board(board)\n",
        "      print(\"\\n\")\n",
        "      pos = int(input('Enter new position: '))\n",
        "\n",
        "    if(checkspace(pos)==True):\n",
        "      board[pos] = var\n",
        "\n",
        "      if(checkDraw()==True):\n",
        "        print(\"Game's a draw!\")\n",
        "        break\n",
        "\n",
        "      if(check_X_win()==True):\n",
        "        print(\"Computer wins\")\n",
        "        break\n",
        "\n",
        "      break\n",
        "      # else:\n",
        "      #   print(\"Player won!\")\n",
        "\n",
        "\n"
      ],
      "metadata": {
        "id": "o8ZbpxCAnikU"
      },
      "execution_count": null,
      "outputs": []
    },
    {
      "cell_type": "code",
      "source": [
        "def player_move():\n",
        "    position = int(input(\"Enter the position for 'O':  \"))\n",
        "    place_at_pos(\"O\", position)\n",
        "    return"
      ],
      "metadata": {
        "id": "Ii0zKFSFnk_F"
      },
      "execution_count": null,
      "outputs": []
    },
    {
      "cell_type": "code",
      "source": [
        "def pc_move():\n",
        "  bestScore = -999\n",
        "  bestmove = 0\n",
        "  for key in board.keys():\n",
        "    if (board[key] == ' '):\n",
        "      board[key] = 'X'  #maximizing event\n",
        "      score = minimax(board, 0, False)\n",
        "      board[key] = ' '\n",
        "      if (score > bestScore):\n",
        "        bestScore = score\n",
        "        bestMove = key\n",
        "\n",
        "  print(\"best move \",bestMove)\n",
        "  place_at_pos('X', bestMove)\n",
        "  return"
      ],
      "metadata": {
        "id": "GI7CIoxfnlCW"
      },
      "execution_count": null,
      "outputs": []
    },
    {
      "cell_type": "code",
      "source": [
        "def minimax(board, depth, isMaximizing):\n",
        "    if (check_X_win()==True):\n",
        "      return 1\n",
        "    if (check_O_win()==True):\n",
        "      return -1\n",
        "    if (checkDraw()==True):\n",
        "      return 0\n",
        "\n",
        "    if (isMaximizing == True):\n",
        "        bestScore = -999\n",
        "        for key in board.keys():\n",
        "            if (board[key] == ' '):\n",
        "                board[key] = 'X'\n",
        "                score = minimax(board, 0, False)\n",
        "                board[key] = ' '\n",
        "                if (score > bestScore):\n",
        "                   bestScore = score\n",
        "        return bestScore\n",
        "    else:\n",
        "        #ismaximizing == False\n",
        "        bestScore = 999\n",
        "        for key in board.keys():\n",
        "            if (board[key] == ' '):\n",
        "                board[key] = 'O'\n",
        "                score = minimax(board, 0, True)\n",
        "                board[key] = ' '\n",
        "                if (score < bestScore):\n",
        "                    bestScore = score\n",
        "        return bestScore\n"
      ],
      "metadata": {
        "id": "HArBWAyCnpHO"
      },
      "execution_count": null,
      "outputs": []
    },
    {
      "cell_type": "code",
      "source": [
        "board = {1: ' ',2: ' ',3: ' ',\n",
        "         4: ' ',5: ' ',6: ' ',\n",
        "         7: ' ',8: ' ',9: ' '}\n",
        "\n",
        "board_pos = {1: '1',2: '2',3: '3',\n",
        "             4: '4',5: '5',6: '6',\n",
        "             7: '7',8: '8',9: '9'}\n",
        "\n",
        "print_board(board_pos)\n",
        "pc_move()\n",
        "print_board(board)\n",
        "player_move()\n",
        "print_board(board)\n",
        "\n",
        "print_board(board)\n",
        "pc_move()\n",
        "print_board(board)\n",
        "player_move()\n",
        "print_board(board)\n",
        "\n",
        "print_board(board)\n",
        "pc_move()\n",
        "print_board(board)\n",
        "player_move()\n",
        "print_board(board)\n"
      ],
      "metadata": {
        "colab": {
          "base_uri": "https://localhost:8080/"
        },
        "id": "hZz7WXWSnpQD",
        "outputId": "68fc7a03-61e3-4144-fd5c-c6f7f8565a64"
      },
      "execution_count": null,
      "outputs": [
        {
          "output_type": "stream",
          "name": "stdout",
          "text": [
            "1 | 2 | 3\n",
            "_ * _ * _\n",
            "4 | 5 | 6\n",
            "_ * _ * _\n",
            "7 | 8 | 9\n",
            "\n",
            "best move  1\n",
            "X |   |  \n",
            "_ * _ * _\n",
            "  |   |  \n",
            "_ * _ * _\n",
            "  |   |  \n",
            "\n",
            "Enter the position for 'O':  2\n",
            "X | O |  \n",
            "_ * _ * _\n",
            "  |   |  \n",
            "_ * _ * _\n",
            "  |   |  \n",
            "\n",
            "X | O |  \n",
            "_ * _ * _\n",
            "  |   |  \n",
            "_ * _ * _\n",
            "  |   |  \n",
            "\n",
            "best move  3\n",
            "X | O | X\n",
            "_ * _ * _\n",
            "  |   |  \n",
            "_ * _ * _\n",
            "  |   |  \n",
            "\n",
            "Enter the position for 'O':  5\n",
            "X | O | X\n",
            "_ * _ * _\n",
            "  | O |  \n",
            "_ * _ * _\n",
            "  |   |  \n",
            "\n",
            "X | O | X\n",
            "_ * _ * _\n",
            "  | O |  \n",
            "_ * _ * _\n",
            "  |   |  \n",
            "\n",
            "best move  8\n",
            "X | O | X\n",
            "_ * _ * _\n",
            "  | O |  \n",
            "_ * _ * _\n",
            "  | X |  \n",
            "\n",
            "Enter the position for 'O':  4\n",
            "X | O | X\n",
            "_ * _ * _\n",
            "O | O |  \n",
            "_ * _ * _\n",
            "  | X |  \n",
            "\n"
          ]
        }
      ]
    }
  ],
  "metadata": {
    "colab": {
      "provenance": [],
      "authorship_tag": "ABX9TyMybOvw3JTXMfUadzsCR7d5",
      "include_colab_link": true
    },
    "kernelspec": {
      "display_name": "Python 3",
      "name": "python3"
    },
    "language_info": {
      "name": "python"
    }
  },
  "nbformat": 4,
  "nbformat_minor": 0
}